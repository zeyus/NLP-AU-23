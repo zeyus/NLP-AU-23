{
 "cells": [
  {
   "cell_type": "markdown",
   "metadata": {},
   "source": [
    "### Class 1\n",
    "This week's classroom instruction will focus on three things:\n",
    "- **Part 1**: Getting the integration between UCloud and GitHub to work\n",
    "- **Part 2**: Learning how to setup a virtual environment for Python\n",
    "- **Part 3**: A few warm-up exercises on string manipulation"
   ]
  },
  {
   "cell_type": "markdown",
   "metadata": {},
   "source": [
    "#### Part 1: Integration between UCloud and GitHub\n",
    "First, follow the instructions provided in `ucloud.md`.\n",
    "\n",
    "Once you have done that, let's look at how to use the repository with course materials. First, log in to https://github.com and go to the repository's link: https://github.com/rbroc/NLP-AU-23. \n",
    "\n",
    "##### Forking the repository\n",
    "Click on `Fork` (top-right of the page). This creates a copy of the repository which is partly independent of the original repository. You will be submitting changes to *this* repository. \n",
    "The original repository will be iteratively updated with new materials or exercises. You can sync the two by setting them both as *remotes* in your local instance of the repository. \n",
    "\n",
    "##### Cloning the repository and setting up remotes\n",
    "With the VS Code app on UCloud open, and a Terminal open, you can clone your repository by `cd`-ing into your private folder, and running: \n",
    "```\n",
    "git clone https://github.com/your_username/NLP-AU-23\n",
    "```\n",
    "\n",
    "You can visualize your remotes by typing: `git remote -v`.\n",
    "You should add my repository as a remote, by running:\n",
    "```\n",
    "git remote add [robertas_remote_name] https://github.com/rbroc/NLP-AU-23.git\n",
    "```\n",
    "\n",
    "##### Our workflow\n",
    "As my repository gets updated, you can pull it into yours by running:\n",
    "```\n",
    "git pull [robertas_remote_name] https://github.com/rbroc/NLP-AU-23.git\n",
    "```\n",
    "\n",
    "You can push to your remote by typing:\n",
    "```\n",
    "git push origin [branch_name]\n",
    "```\n",
    "\n",
    "Once you have done this, our workflow will be the following:\n",
    "- You run the github setup script (and log in with your token if needed)\n",
    "- You go to your local repo\n",
    "- You pull my repo\n",
    "- You make changes and push to your fork"
   ]
  },
  {
   "cell_type": "markdown",
   "metadata": {},
   "source": [
    "#### Part 2: Virtual environments\n",
    "A good way to manage dependencies for specific projects and avoid conflicts is to create virtual environments (which contain bundles of libraries that you can \"activate\" and \"deactivate\" at will, without those interfering with your global environment). I tend to keep my virtual environments in the same place, e.g., my private folder on UCloud.\n",
    "\n",
    "##### Creating, activating, and deactivating a virtual environment\n",
    "Let's create a virtual enviroment.\n",
    "1. Navigate to your private folder (`path_to_folder`)\n",
    "2. Create a virtual environment folder, e.g., by running `mkdir venvs`\n",
    "3. Create a new virtual environment (`nlp-e23`), by running:\n",
    "`python -m venv path_to_folder/venvs/nlp-e23`\n",
    "4. You can activate it by running: `source path_to_folder/nlp-e23/bin/activate`\n",
    "5. To deactivate it, you can simply run: `deactivate`\n",
    "Anything you `pip install` while the enviroment is active stays inside the environment. \n",
    "To make sure you have the latest pip, run:\n",
    "```\n",
    "pip install --upgrade pip\n",
    "```\n",
    "The nice thing about this is that you don't need to reinstall stuff whenever you open UCloud, just load your virtual environment.\n",
    "\n",
    "##### Using it in a notebook\n",
    "Everything you install which the virtual environment is active is fully contained inside the virtual environments.\n",
    "If you virtual environment is active, scripts will use it, but an extra step is needed to use it as part of notebooks.\n",
    "First, we need to install ipykernel:\n",
    "```\n",
    "pip install ipykernel\n",
    "```\n",
    "\n",
    "Then, we need to create a new kernel using our virtual environment:\n",
    "```\n",
    "python3 -m ipykernel install --user --name=nlp-e23\n",
    "```\n",
    "\n",
    "Now try to open a notebook (you can create an empty one by running `touch notebook_name.ipynb`). On the top right, you can choose a kernel. A kernel based on the virtual environment will be available.\n",
    "\n",
    "##### Installing libraries from a requirements file\n",
    "An easy way to keep track of your dependencies is to add them to a requirements file. They are generally called something like `requirements.txt`, and they are simply a list of libraries your project needs.\n",
    "The content of the text file looks something like this:\n",
    "```\n",
    "datasets==2.12.0\n",
    "pandas==1.5.3\n",
    "```\n",
    "You will have one library per line, and -- although it is not obligatory -- you can pin the package to the version you know is needed for your project.\n",
    "You can install all the dependencies needed from your requirements file, by running:\n",
    "\n",
    "`pip install -r requirements.txt`\n"
   ]
  },
  {
   "cell_type": "markdown",
   "metadata": {},
   "source": [
    "#### Part 3: Warm-up exercises\n",
    "What follows is a few exercises to get back in shape with Python syntax, especially for what concerns simple string manipulation."
   ]
  },
  {
   "cell_type": "markdown",
   "metadata": {},
   "source": [
    "#### String concatenation\n",
    "Write a function that takes two strings as input, and returns a concatenated string (the second string is appended to the end of the first one)."
   ]
  },
  {
   "cell_type": "code",
   "execution_count": 6,
   "metadata": {},
   "outputs": [],
   "source": [
    "def concat_two_strings():\n",
    "    ''' Add code '''\n",
    "    pass"
   ]
  },
  {
   "cell_type": "markdown",
   "metadata": {},
   "source": [
    "Now write a function that can take any number of strings, and concatenate all of them. Hint: you can use a different data structure to pass the strings (e.g., an iterable), or use `*args` to pass any number of arguments to the function call."
   ]
  },
  {
   "cell_type": "code",
   "execution_count": null,
   "metadata": {},
   "outputs": [],
   "source": [
    "def concat_any_string():\n",
    "    ''' Add code '''\n",
    "    pass"
   ]
  },
  {
   "cell_type": "markdown",
   "metadata": {},
   "source": [
    "#### Counting substrings\n",
    "Write a function that takes two inputs: \n",
    "- l, which is a single character;\n",
    "- s, which is a string. \n",
    "\n",
    "The function should return how many times l is contained in s (an integer)."
   ]
  },
  {
   "cell_type": "code",
   "execution_count": null,
   "metadata": {},
   "outputs": [],
   "source": [
    "def letter_count(l, s):\n",
    "    ''' Add code '''\n",
    "    pass"
   ]
  },
  {
   "cell_type": "markdown",
   "metadata": {},
   "source": [
    "Can you make a function that generalizes to l being any sequence of characters (e.g., counting how many times the substring `ab` occurs)? \n",
    "Hint: you can do it in base python, or use functions (e.g., `findall`) from the regex package `re`."
   ]
  },
  {
   "cell_type": "markdown",
   "metadata": {},
   "source": [
    "Now edit the previous function to be able to return counts for multiple strings (make *l* an iterable, e.g., a list).\n",
    "The output should be a dictionary with keys *k* and values *v*, such that k are all elements of *l*, and *v* is the respective count."
   ]
  },
  {
   "cell_type": "code",
   "execution_count": 7,
   "metadata": {},
   "outputs": [],
   "source": [
    "def generalized_counter(l, s):\n",
    "    ''' Add code '''\n",
    "    pass"
   ]
  },
  {
   "cell_type": "markdown",
   "metadata": {},
   "source": [
    "#### Loading text files"
   ]
  },
  {
   "cell_type": "markdown",
   "metadata": {},
   "source": [
    "Loading a text file: the `data` folder contains a file called `book-war-and-peace.txt`.\n",
    "Use the functions `open` and `read` to read the file as a single string, and split it into a list of words, based on the presence of whitespaces.\n",
    "Once you have done this, try to use the function `readlines` instead: what does it do?"
   ]
  },
  {
   "cell_type": "code",
   "execution_count": null,
   "metadata": {},
   "outputs": [],
   "source": [
    "# read book-war-and-peace.txt as a string or using readlines"
   ]
  },
  {
   "cell_type": "markdown",
   "metadata": {},
   "source": [
    "#### Regular expressions"
   ]
  },
  {
   "cell_type": "markdown",
   "metadata": {},
   "source": [
    "After reading the file with `read`, replace all newlines (`\\n`) with whitespaces first, remove any sequences of multiple whitespaces, and then all alphanumeric characters (excluding spaces). Hint: you can use functions like `re.sub` to do so (here is a guide to regex patterns: https://docs.python.org/3/howto/regex.html)."
   ]
  },
  {
   "cell_type": "code",
   "execution_count": null,
   "metadata": {},
   "outputs": [],
   "source": [
    "# Remove \\n and non-alphanumeric characters"
   ]
  },
  {
   "cell_type": "markdown",
   "metadata": {},
   "source": [
    "Now lowercase this text, split by whitespace, and count the number of occurrences for each word. \n",
    "Hint: \n",
    "- import `Counter` (`from collections import Counter`) to extract counts;\n",
    "- transform the output of Counter into a dictionary (pass its output to `dict`)\n",
    "- import pandas as pass that to `pd.DataFrame.from_dict` (set `orient=index`)\n",
    "- Sort it using `sort_values`.\n",
    "\n",
    "\n",
    "Visualize the top 100 words: what do you notice?"
   ]
  },
  {
   "cell_type": "code",
   "execution_count": null,
   "metadata": {},
   "outputs": [],
   "source": [
    "# add code"
   ]
  },
  {
   "cell_type": "markdown",
   "metadata": {},
   "source": [
    "#### "
   ]
  }
 ],
 "metadata": {
  "kernelspec": {
   "display_name": "Python 3",
   "language": "python",
   "name": "python3"
  },
  "language_info": {
   "codemirror_mode": {
    "name": "ipython",
    "version": 3
   },
   "file_extension": ".py",
   "mimetype": "text/x-python",
   "name": "python",
   "nbconvert_exporter": "python",
   "pygments_lexer": "ipython3",
   "version": "3.11.2"
  },
  "orig_nbformat": 4
 },
 "nbformat": 4,
 "nbformat_minor": 2
}
